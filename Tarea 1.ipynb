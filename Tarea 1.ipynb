{
 "cells": [
  {
   "cell_type": "markdown",
   "metadata": {},
   "source": [
    "<img src=\"http://www.exalumnos.usm.cl/wp-content/uploads/2015/06/Isotipo-Negro.gif\" title=\"Title text\" width=\"20%\" height=\"20%\" />\n",
    "\n",
    "\n",
    "<hr style=\"height:2px;border:none\"/>\n",
    "<h1 align='center'> INF-393 Máquinas de Aprendizaje II-2018 </h1>\n",
    "\n",
    "<H3 align='center'> Tarea 1  </H3>\n",
    "<hr style=\"height:2px;border:none\"/> \n",
    "\n",
    "Integrantes:\n",
    "- Diego Jara (201304530-8)\n",
    "- Miguel Ibáñez (2990010-8)\n",
    "\n",
    "\n",
    "Secciones:\n",
    "\n",
    "[1.](#primero) Aprendizaje con regresión lineal  \n",
    "[2.](#segundo) Análisis de audios como datos brutos  \n",
    "[3.](#tercero) Análisis de emociones en tweets"
   ]
  },
  {
   "cell_type": "code",
   "execution_count": 38,
   "metadata": {},
   "outputs": [],
   "source": [
    "import pandas as pd\n",
    "import numpy as np\n",
    "import seaborn as sns\n",
    "import matplotlib.pylab as plt\n",
    "\n",
    "from sklearn.linear_model import LinearRegression as LR\n",
    "from sklearn.model_selection import train_test_split\n",
    "from sklearn.preprocessing import StandardScaler"
   ]
  },
  {
   "cell_type": "markdown",
   "metadata": {},
   "source": [
    "<a id=\"primero\"></a>\n",
    "## 1. Aprendizaje con regresión lineal."
   ]
  },
  {
   "cell_type": "markdown",
   "metadata": {},
   "source": [
    "**a)** Datos"
   ]
  },
  {
   "cell_type": "code",
   "execution_count": 3,
   "metadata": {},
   "outputs": [],
   "source": [
    "df = pd.read_csv(\"world-university-rankings/timesData.csv\")"
   ]
  },
  {
   "cell_type": "code",
   "execution_count": 7,
   "metadata": {},
   "outputs": [
    {
     "name": "stdout",
     "output_type": "stream",
     "text": [
      "(2603, 14)\n"
     ]
    },
    {
     "data": {
      "text/html": [
       "<div>\n",
       "<style scoped>\n",
       "    .dataframe tbody tr th:only-of-type {\n",
       "        vertical-align: middle;\n",
       "    }\n",
       "\n",
       "    .dataframe tbody tr th {\n",
       "        vertical-align: top;\n",
       "    }\n",
       "\n",
       "    .dataframe thead th {\n",
       "        text-align: right;\n",
       "    }\n",
       "</style>\n",
       "<table border=\"1\" class=\"dataframe\">\n",
       "  <thead>\n",
       "    <tr style=\"text-align: right;\">\n",
       "      <th></th>\n",
       "      <th>teaching</th>\n",
       "      <th>research</th>\n",
       "      <th>citations</th>\n",
       "      <th>student_staff_ratio</th>\n",
       "      <th>year</th>\n",
       "    </tr>\n",
       "  </thead>\n",
       "  <tbody>\n",
       "    <tr>\n",
       "      <th>count</th>\n",
       "      <td>2603.000000</td>\n",
       "      <td>2603.000000</td>\n",
       "      <td>2603.000000</td>\n",
       "      <td>2544.000000</td>\n",
       "      <td>2603.000000</td>\n",
       "    </tr>\n",
       "    <tr>\n",
       "      <th>mean</th>\n",
       "      <td>37.801498</td>\n",
       "      <td>35.910257</td>\n",
       "      <td>60.921629</td>\n",
       "      <td>18.445283</td>\n",
       "      <td>2014.075682</td>\n",
       "    </tr>\n",
       "    <tr>\n",
       "      <th>std</th>\n",
       "      <td>17.604218</td>\n",
       "      <td>21.254805</td>\n",
       "      <td>23.073219</td>\n",
       "      <td>11.458698</td>\n",
       "      <td>1.685733</td>\n",
       "    </tr>\n",
       "    <tr>\n",
       "      <th>min</th>\n",
       "      <td>9.900000</td>\n",
       "      <td>2.900000</td>\n",
       "      <td>1.200000</td>\n",
       "      <td>0.600000</td>\n",
       "      <td>2011.000000</td>\n",
       "    </tr>\n",
       "    <tr>\n",
       "      <th>25%</th>\n",
       "      <td>24.700000</td>\n",
       "      <td>19.600000</td>\n",
       "      <td>45.500000</td>\n",
       "      <td>11.975000</td>\n",
       "      <td>2013.000000</td>\n",
       "    </tr>\n",
       "    <tr>\n",
       "      <th>50%</th>\n",
       "      <td>33.900000</td>\n",
       "      <td>30.500000</td>\n",
       "      <td>62.500000</td>\n",
       "      <td>16.100000</td>\n",
       "      <td>2014.000000</td>\n",
       "    </tr>\n",
       "    <tr>\n",
       "      <th>75%</th>\n",
       "      <td>46.400000</td>\n",
       "      <td>47.250000</td>\n",
       "      <td>79.050000</td>\n",
       "      <td>21.500000</td>\n",
       "      <td>2016.000000</td>\n",
       "    </tr>\n",
       "    <tr>\n",
       "      <th>max</th>\n",
       "      <td>99.700000</td>\n",
       "      <td>99.400000</td>\n",
       "      <td>100.000000</td>\n",
       "      <td>162.600000</td>\n",
       "      <td>2016.000000</td>\n",
       "    </tr>\n",
       "  </tbody>\n",
       "</table>\n",
       "</div>"
      ],
      "text/plain": [
       "          teaching     research    citations  student_staff_ratio         year\n",
       "count  2603.000000  2603.000000  2603.000000          2544.000000  2603.000000\n",
       "mean     37.801498    35.910257    60.921629            18.445283  2014.075682\n",
       "std      17.604218    21.254805    23.073219            11.458698     1.685733\n",
       "min       9.900000     2.900000     1.200000             0.600000  2011.000000\n",
       "25%      24.700000    19.600000    45.500000            11.975000  2013.000000\n",
       "50%      33.900000    30.500000    62.500000            16.100000  2014.000000\n",
       "75%      46.400000    47.250000    79.050000            21.500000  2016.000000\n",
       "max      99.700000    99.400000   100.000000           162.600000  2016.000000"
      ]
     },
     "execution_count": 7,
     "metadata": {},
     "output_type": "execute_result"
    }
   ],
   "source": [
    "print(df.shape)\n",
    "df.describe()"
   ]
  },
  {
   "cell_type": "code",
   "execution_count": 21,
   "metadata": {
    "scrolled": true
   },
   "outputs": [],
   "source": []
  },
  {
   "cell_type": "markdown",
   "metadata": {},
   "source": [
    "**b)** Pre-procesamiento"
   ]
  },
  {
   "cell_type": "markdown",
   "metadata": {},
   "source": [
    "Se eliminan las filas a las que les falte un valor (ya sea 'nan' o el string \"-\"), exceptuando aquellas a las que les falta sólo en la columna \"total_score\""
   ]
  },
  {
   "cell_type": "code",
   "execution_count": 4,
   "metadata": {},
   "outputs": [],
   "source": [
    "df.dropna(axis=0,inplace=True,how='any') #borra nan\n",
    "df.loc[df[\"total_score\"]=='-',[\"total_score\"]] = \"unknown\"\n",
    "df = df[~(df == '-').any(axis=1)] #elimina filas con valores nulos"
   ]
  },
  {
   "cell_type": "markdown",
   "metadata": {},
   "source": [
    "Se pasa la columna \"country\" (variable categórica) a una serie de variables booleanas para cada una de las categorías (países). Luego, se agregan las columnas \"male\" y \"female\" con las proporsiones de cada uno y la columna \"female_male_ratio\" se convierte a decimal. Finalmente, se limpia de formato las columnas \"num_students\" e \"international_students\"."
   ]
  },
  {
   "cell_type": "code",
   "execution_count": 5,
   "metadata": {},
   "outputs": [],
   "source": [
    "def convertToInt(x):\n",
    "    try:\n",
    "        x = int(x)\n",
    "    except:\n",
    "        x = 0\n",
    "    return x"
   ]
  },
  {
   "cell_type": "code",
   "execution_count": 6,
   "metadata": {},
   "outputs": [],
   "source": [
    "nuevo_df  = pd.get_dummies(df, columns=[\"country\"]) #column to categorical\n",
    "\n",
    "nuevo_df['female'] = nuevo_df['female_male_ratio'].str.split(':', expand=True)[0].apply(convertToInt)\n",
    "nuevo_df['male'] = nuevo_df['female_male_ratio'].str.split(':', expand=True)[1].apply(convertToInt)\n",
    "nuevo_df['female_male_ratio'] =  np.where(nuevo_df['male'] == 0, 0, nuevo_df['female']/nuevo_df['male']) #si no hay (rellena 0) \n",
    "nuevo_df['num_students'] = nuevo_df['num_students'].apply(lambda x: int(str(x).replace(',','')))\n",
    "nuevo_df['international_students'] = nuevo_df['international_students'].apply(lambda x: int(str(x).replace('%','')))"
   ]
  },
  {
   "cell_type": "markdown",
   "metadata": {},
   "source": [
    "Se separan en, dos conjuntos, aquellas filas que tienen \"tota_score\" definido de aquellas que no. "
   ]
  },
  {
   "cell_type": "code",
   "execution_count": 7,
   "metadata": {},
   "outputs": [
    {
     "name": "stdout",
     "output_type": "stream",
     "text": [
      "(954, 82)\n"
     ]
    },
    {
     "data": {
      "text/html": [
       "<div>\n",
       "<style scoped>\n",
       "    .dataframe tbody tr th:only-of-type {\n",
       "        vertical-align: middle;\n",
       "    }\n",
       "\n",
       "    .dataframe tbody tr th {\n",
       "        vertical-align: top;\n",
       "    }\n",
       "\n",
       "    .dataframe thead th {\n",
       "        text-align: right;\n",
       "    }\n",
       "</style>\n",
       "<table border=\"1\" class=\"dataframe\">\n",
       "  <thead>\n",
       "    <tr style=\"text-align: right;\">\n",
       "      <th></th>\n",
       "      <th>world_rank</th>\n",
       "      <th>university_name</th>\n",
       "      <th>teaching</th>\n",
       "      <th>international</th>\n",
       "      <th>research</th>\n",
       "      <th>citations</th>\n",
       "      <th>income</th>\n",
       "      <th>total_score</th>\n",
       "      <th>num_students</th>\n",
       "      <th>student_staff_ratio</th>\n",
       "      <th>...</th>\n",
       "      <th>country_Taiwan</th>\n",
       "      <th>country_Thailand</th>\n",
       "      <th>country_Turkey</th>\n",
       "      <th>country_Uganda</th>\n",
       "      <th>country_Ukraine</th>\n",
       "      <th>country_United Arab Emirates</th>\n",
       "      <th>country_United Kingdom</th>\n",
       "      <th>country_United States of America</th>\n",
       "      <th>female</th>\n",
       "      <th>male</th>\n",
       "    </tr>\n",
       "  </thead>\n",
       "  <tbody>\n",
       "    <tr>\n",
       "      <th>1</th>\n",
       "      <td>2</td>\n",
       "      <td>California Institute of Technology</td>\n",
       "      <td>97.7</td>\n",
       "      <td>54.6</td>\n",
       "      <td>98.0</td>\n",
       "      <td>99.9</td>\n",
       "      <td>83.7</td>\n",
       "      <td>96.0</td>\n",
       "      <td>2243</td>\n",
       "      <td>6.9</td>\n",
       "      <td>...</td>\n",
       "      <td>0</td>\n",
       "      <td>0</td>\n",
       "      <td>0</td>\n",
       "      <td>0</td>\n",
       "      <td>0</td>\n",
       "      <td>0</td>\n",
       "      <td>0</td>\n",
       "      <td>1</td>\n",
       "      <td>33</td>\n",
       "      <td>67</td>\n",
       "    </tr>\n",
       "    <tr>\n",
       "      <th>2</th>\n",
       "      <td>3</td>\n",
       "      <td>Massachusetts Institute of Technology</td>\n",
       "      <td>97.8</td>\n",
       "      <td>82.3</td>\n",
       "      <td>91.4</td>\n",
       "      <td>99.9</td>\n",
       "      <td>87.5</td>\n",
       "      <td>95.6</td>\n",
       "      <td>11074</td>\n",
       "      <td>9.0</td>\n",
       "      <td>...</td>\n",
       "      <td>0</td>\n",
       "      <td>0</td>\n",
       "      <td>0</td>\n",
       "      <td>0</td>\n",
       "      <td>0</td>\n",
       "      <td>0</td>\n",
       "      <td>0</td>\n",
       "      <td>1</td>\n",
       "      <td>37</td>\n",
       "      <td>63</td>\n",
       "    </tr>\n",
       "    <tr>\n",
       "      <th>3</th>\n",
       "      <td>4</td>\n",
       "      <td>Stanford University</td>\n",
       "      <td>98.3</td>\n",
       "      <td>29.5</td>\n",
       "      <td>98.1</td>\n",
       "      <td>99.2</td>\n",
       "      <td>64.3</td>\n",
       "      <td>94.3</td>\n",
       "      <td>15596</td>\n",
       "      <td>7.8</td>\n",
       "      <td>...</td>\n",
       "      <td>0</td>\n",
       "      <td>0</td>\n",
       "      <td>0</td>\n",
       "      <td>0</td>\n",
       "      <td>0</td>\n",
       "      <td>0</td>\n",
       "      <td>0</td>\n",
       "      <td>1</td>\n",
       "      <td>42</td>\n",
       "      <td>58</td>\n",
       "    </tr>\n",
       "    <tr>\n",
       "      <th>5</th>\n",
       "      <td>6</td>\n",
       "      <td>University of Cambridge</td>\n",
       "      <td>90.5</td>\n",
       "      <td>77.7</td>\n",
       "      <td>94.1</td>\n",
       "      <td>94.0</td>\n",
       "      <td>57.0</td>\n",
       "      <td>91.2</td>\n",
       "      <td>18812</td>\n",
       "      <td>11.8</td>\n",
       "      <td>...</td>\n",
       "      <td>0</td>\n",
       "      <td>0</td>\n",
       "      <td>0</td>\n",
       "      <td>0</td>\n",
       "      <td>0</td>\n",
       "      <td>0</td>\n",
       "      <td>1</td>\n",
       "      <td>0</td>\n",
       "      <td>46</td>\n",
       "      <td>54</td>\n",
       "    </tr>\n",
       "    <tr>\n",
       "      <th>6</th>\n",
       "      <td>6</td>\n",
       "      <td>University of Oxford</td>\n",
       "      <td>88.2</td>\n",
       "      <td>77.2</td>\n",
       "      <td>93.9</td>\n",
       "      <td>95.1</td>\n",
       "      <td>73.5</td>\n",
       "      <td>91.2</td>\n",
       "      <td>19919</td>\n",
       "      <td>11.6</td>\n",
       "      <td>...</td>\n",
       "      <td>0</td>\n",
       "      <td>0</td>\n",
       "      <td>0</td>\n",
       "      <td>0</td>\n",
       "      <td>0</td>\n",
       "      <td>0</td>\n",
       "      <td>1</td>\n",
       "      <td>0</td>\n",
       "      <td>46</td>\n",
       "      <td>54</td>\n",
       "    </tr>\n",
       "  </tbody>\n",
       "</table>\n",
       "<p>5 rows × 82 columns</p>\n",
       "</div>"
      ],
      "text/plain": [
       "  world_rank                        university_name  teaching international  \\\n",
       "1          2     California Institute of Technology      97.7          54.6   \n",
       "2          3  Massachusetts Institute of Technology      97.8          82.3   \n",
       "3          4                    Stanford University      98.3          29.5   \n",
       "5          6                University of Cambridge      90.5          77.7   \n",
       "6          6                   University of Oxford      88.2          77.2   \n",
       "\n",
       "   research  citations income total_score  num_students  student_staff_ratio  \\\n",
       "1      98.0       99.9   83.7        96.0          2243                  6.9   \n",
       "2      91.4       99.9   87.5        95.6         11074                  9.0   \n",
       "3      98.1       99.2   64.3        94.3         15596                  7.8   \n",
       "5      94.1       94.0   57.0        91.2         18812                 11.8   \n",
       "6      93.9       95.1   73.5        91.2         19919                 11.6   \n",
       "\n",
       "   ...   country_Taiwan  country_Thailand  country_Turkey  country_Uganda  \\\n",
       "1  ...                0                 0               0               0   \n",
       "2  ...                0                 0               0               0   \n",
       "3  ...                0                 0               0               0   \n",
       "5  ...                0                 0               0               0   \n",
       "6  ...                0                 0               0               0   \n",
       "\n",
       "   country_Ukraine  country_United Arab Emirates  country_United Kingdom  \\\n",
       "1                0                             0                       0   \n",
       "2                0                             0                       0   \n",
       "3                0                             0                       0   \n",
       "5                0                             0                       1   \n",
       "6                0                             0                       1   \n",
       "\n",
       "   country_United States of America  female  male  \n",
       "1                                 1      33    67  \n",
       "2                                 1      37    63  \n",
       "3                                 1      42    58  \n",
       "5                                 0      46    54  \n",
       "6                                 0      46    54  \n",
       "\n",
       "[5 rows x 82 columns]"
      ]
     },
     "execution_count": 7,
     "metadata": {},
     "output_type": "execute_result"
    }
   ],
   "source": [
    "df_test = nuevo_df[nuevo_df[\"total_score\"]=='unknown']  #para predecir al final\n",
    "nuevo_df =  nuevo_df[nuevo_df[\"total_score\"]!='unknown'] #elimina unknown rank..\n",
    "print(nuevo_df.shape)\n",
    "nuevo_df.head()"
   ]
  },
  {
   "cell_type": "markdown",
   "metadata": {},
   "source": [
    "**c)** Creación de los conjuntos de entrenamiento, validación y test"
   ]
  },
  {
   "cell_type": "code",
   "execution_count": 9,
   "metadata": {},
   "outputs": [],
   "source": [
    "Y = nuevo_df['total_score'].values\n",
    "X = nuevo_df.drop([\"total_score\",\"world_rank\",\"university_name\"],axis=1).values\n",
    "Y = Y.astype('float32')\n",
    "X = X.astype('float32')\n",
    "\n",
    "# Target\n",
    "X_tgt = df_test.drop([\"total_score\",\"world_rank\",\"university_name\"],axis=1).values\n",
    "X_tgt = X_tgt.astype('float32')\n",
    "\n",
    "\n",
    "\n",
    "X_train, X_test, y_train, y_test = train_test_split(X, Y, test_size=0.3, random_state=42)\n",
    "\n",
    "\n",
    "# TODO validation set\n",
    "# X_train, X_val, y_train, y_val = train_test_split(X_train, y_train, test_size=0.3, random_state=42)"
   ]
  },
  {
   "cell_type": "markdown",
   "metadata": {},
   "source": [
    "**d)** Normalización"
   ]
  },
  {
   "cell_type": "code",
   "execution_count": 10,
   "metadata": {},
   "outputs": [],
   "source": [
    "scaler = StandardScaler(with_mean=True, with_std=True)\n",
    "scaler.fit(X_train)\n",
    "X_train_scaled = scaler.transform(X_train)\n",
    "# X_val_scaled = scaler.transform(X_val)\n",
    "X_test_scaled = scaler.transform(X_test)"
   ]
  },
  {
   "cell_type": "markdown",
   "metadata": {},
   "source": [
    "**e)** Regresión Lineal"
   ]
  },
  {
   "cell_type": "code",
   "execution_count": 11,
   "metadata": {},
   "outputs": [
    {
     "name": "stderr",
     "output_type": "stream",
     "text": [
      "C:\\Users\\mibanez\\Anaconda3\\lib\\site-packages\\scipy\\stats\\stats.py:1713: FutureWarning: Using a non-tuple sequence for multidimensional indexing is deprecated; use `arr[tuple(seq)]` instead of `arr[seq]`. In the future this will be interpreted as an array index, `arr[np.array(seq)]`, which will result either in an error or a different result.\n",
      "  return np.add.reduce(sorted[indexer] * weights, axis=axis) / sumval\n"
     ]
    },
    {
     "data": {
      "text/plain": [
       "<matplotlib.axes._subplots.AxesSubplot at 0x19e4dc06438>"
      ]
     },
     "execution_count": 11,
     "metadata": {},
     "output_type": "execute_result"
    },
    {
     "data": {
      "image/png": "[encoded data removed]",
      "text/plain": [
       "<Figure size 432x288 with 1 Axes>"
      ]
     },
     "metadata": {
      "needs_background": "light"
     },
     "output_type": "display_data"
    }
   ],
   "source": [
    "# from sklearn.linear_model import LinearRegression as LR\n",
    "linreg = LR(fit_intercept=True, n_jobs=1)\n",
    "linreg.fit(X_train_scaled,y_train)\n",
    "\n",
    "# import seaborn as sns\n",
    "\n",
    "# Plot diferencia\n",
    "res = y_train-linreg.predict(X_train_scaled)\n",
    "sns.distplot(res)"
   ]
  },
  {
   "cell_type": "markdown",
   "metadata": {},
   "source": [
    "**f)** Z-score y F-score"
   ]
  },
  {
   "cell_type": "code",
   "execution_count": null,
   "metadata": {},
   "outputs": [],
   "source": []
  },
  {
   "cell_type": "markdown",
   "metadata": {},
   "source": [
    "**g)** Información mútua de los predictores con respecto al output."
   ]
  },
  {
   "cell_type": "code",
   "execution_count": 36,
   "metadata": {},
   "outputs": [
    {
     "data": {
      "text/html": [
       "<div>\n",
       "<style scoped>\n",
       "    .dataframe tbody tr th:only-of-type {\n",
       "        vertical-align: middle;\n",
       "    }\n",
       "\n",
       "    .dataframe tbody tr th {\n",
       "        vertical-align: top;\n",
       "    }\n",
       "\n",
       "    .dataframe thead th {\n",
       "        text-align: right;\n",
       "    }\n",
       "</style>\n",
       "<table border=\"1\" class=\"dataframe\">\n",
       "  <thead>\n",
       "    <tr style=\"text-align: right;\">\n",
       "      <th></th>\n",
       "      <th>0</th>\n",
       "    </tr>\n",
       "  </thead>\n",
       "  <tbody>\n",
       "    <tr>\n",
       "      <th>teaching</th>\n",
       "      <td>0.883767</td>\n",
       "    </tr>\n",
       "    <tr>\n",
       "      <th>international</th>\n",
       "      <td>0.072969</td>\n",
       "    </tr>\n",
       "    <tr>\n",
       "      <th>research</th>\n",
       "      <td>0.901339</td>\n",
       "    </tr>\n",
       "    <tr>\n",
       "      <th>citations</th>\n",
       "      <td>0.314343</td>\n",
       "    </tr>\n",
       "    <tr>\n",
       "      <th>income</th>\n",
       "      <td>0.143268</td>\n",
       "    </tr>\n",
       "    <tr>\n",
       "      <th>num_students</th>\n",
       "      <td>0.276260</td>\n",
       "    </tr>\n",
       "    <tr>\n",
       "      <th>student_staff_ratio</th>\n",
       "      <td>0.287310</td>\n",
       "    </tr>\n",
       "    <tr>\n",
       "      <th>international_students</th>\n",
       "      <td>0.341810</td>\n",
       "    </tr>\n",
       "    <tr>\n",
       "      <th>female_male_ratio</th>\n",
       "      <td>0.299112</td>\n",
       "    </tr>\n",
       "    <tr>\n",
       "      <th>year</th>\n",
       "      <td>0.234710</td>\n",
       "    </tr>\n",
       "    <tr>\n",
       "      <th>country_Argentina</th>\n",
       "      <td>0.104917</td>\n",
       "    </tr>\n",
       "    <tr>\n",
       "      <th>country_Australia</th>\n",
       "      <td>0.134083</td>\n",
       "    </tr>\n",
       "    <tr>\n",
       "      <th>country_Austria</th>\n",
       "      <td>0.141009</td>\n",
       "    </tr>\n",
       "    <tr>\n",
       "      <th>country_Belarus</th>\n",
       "      <td>0.131905</td>\n",
       "    </tr>\n",
       "    <tr>\n",
       "      <th>country_Belgium</th>\n",
       "      <td>0.117845</td>\n",
       "    </tr>\n",
       "    <tr>\n",
       "      <th>country_Brazil</th>\n",
       "      <td>0.155983</td>\n",
       "    </tr>\n",
       "    <tr>\n",
       "      <th>country_Canada</th>\n",
       "      <td>0.127487</td>\n",
       "    </tr>\n",
       "    <tr>\n",
       "      <th>country_Chile</th>\n",
       "      <td>0.145223</td>\n",
       "    </tr>\n",
       "    <tr>\n",
       "      <th>country_China</th>\n",
       "      <td>0.091291</td>\n",
       "    </tr>\n",
       "    <tr>\n",
       "      <th>country_Colombia</th>\n",
       "      <td>0.131436</td>\n",
       "    </tr>\n",
       "    <tr>\n",
       "      <th>country_Cyprus</th>\n",
       "      <td>0.148758</td>\n",
       "    </tr>\n",
       "    <tr>\n",
       "      <th>country_Czech Republic</th>\n",
       "      <td>0.119714</td>\n",
       "    </tr>\n",
       "    <tr>\n",
       "      <th>country_Denmark</th>\n",
       "      <td>0.147932</td>\n",
       "    </tr>\n",
       "    <tr>\n",
       "      <th>country_Egypt</th>\n",
       "      <td>0.120362</td>\n",
       "    </tr>\n",
       "    <tr>\n",
       "      <th>country_Estonia</th>\n",
       "      <td>0.143012</td>\n",
       "    </tr>\n",
       "    <tr>\n",
       "      <th>country_Finland</th>\n",
       "      <td>0.148502</td>\n",
       "    </tr>\n",
       "    <tr>\n",
       "      <th>country_France</th>\n",
       "      <td>0.126314</td>\n",
       "    </tr>\n",
       "    <tr>\n",
       "      <th>country_Germany</th>\n",
       "      <td>0.146009</td>\n",
       "    </tr>\n",
       "    <tr>\n",
       "      <th>country_Greece</th>\n",
       "      <td>0.099511</td>\n",
       "    </tr>\n",
       "    <tr>\n",
       "      <th>country_Hong Kong</th>\n",
       "      <td>0.142696</td>\n",
       "    </tr>\n",
       "    <tr>\n",
       "      <th>...</th>\n",
       "      <td>...</td>\n",
       "    </tr>\n",
       "    <tr>\n",
       "      <th>country_Nigeria</th>\n",
       "      <td>0.129934</td>\n",
       "    </tr>\n",
       "    <tr>\n",
       "      <th>country_Norway</th>\n",
       "      <td>0.098966</td>\n",
       "    </tr>\n",
       "    <tr>\n",
       "      <th>country_Oman</th>\n",
       "      <td>0.127345</td>\n",
       "    </tr>\n",
       "    <tr>\n",
       "      <th>country_Pakistan</th>\n",
       "      <td>0.123890</td>\n",
       "    </tr>\n",
       "    <tr>\n",
       "      <th>country_Poland</th>\n",
       "      <td>0.116708</td>\n",
       "    </tr>\n",
       "    <tr>\n",
       "      <th>country_Portugal</th>\n",
       "      <td>0.126887</td>\n",
       "    </tr>\n",
       "    <tr>\n",
       "      <th>country_Qatar</th>\n",
       "      <td>0.141056</td>\n",
       "    </tr>\n",
       "    <tr>\n",
       "      <th>country_Republic of Ireland</th>\n",
       "      <td>0.136465</td>\n",
       "    </tr>\n",
       "    <tr>\n",
       "      <th>country_Romania</th>\n",
       "      <td>0.111867</td>\n",
       "    </tr>\n",
       "    <tr>\n",
       "      <th>country_Russian Federation</th>\n",
       "      <td>0.116104</td>\n",
       "    </tr>\n",
       "    <tr>\n",
       "      <th>country_Saudi Arabia</th>\n",
       "      <td>0.103308</td>\n",
       "    </tr>\n",
       "    <tr>\n",
       "      <th>country_Serbia</th>\n",
       "      <td>0.110315</td>\n",
       "    </tr>\n",
       "    <tr>\n",
       "      <th>country_Singapore</th>\n",
       "      <td>0.100133</td>\n",
       "    </tr>\n",
       "    <tr>\n",
       "      <th>country_Slovakia</th>\n",
       "      <td>0.129424</td>\n",
       "    </tr>\n",
       "    <tr>\n",
       "      <th>country_Slovenia</th>\n",
       "      <td>0.120099</td>\n",
       "    </tr>\n",
       "    <tr>\n",
       "      <th>country_South Africa</th>\n",
       "      <td>0.159299</td>\n",
       "    </tr>\n",
       "    <tr>\n",
       "      <th>country_South Korea</th>\n",
       "      <td>0.122393</td>\n",
       "    </tr>\n",
       "    <tr>\n",
       "      <th>country_Spain</th>\n",
       "      <td>0.128404</td>\n",
       "    </tr>\n",
       "    <tr>\n",
       "      <th>country_Sweden</th>\n",
       "      <td>0.121451</td>\n",
       "    </tr>\n",
       "    <tr>\n",
       "      <th>country_Switzerland</th>\n",
       "      <td>0.164865</td>\n",
       "    </tr>\n",
       "    <tr>\n",
       "      <th>country_Taiwan</th>\n",
       "      <td>0.103323</td>\n",
       "    </tr>\n",
       "    <tr>\n",
       "      <th>country_Thailand</th>\n",
       "      <td>0.119139</td>\n",
       "    </tr>\n",
       "    <tr>\n",
       "      <th>country_Turkey</th>\n",
       "      <td>0.139892</td>\n",
       "    </tr>\n",
       "    <tr>\n",
       "      <th>country_Uganda</th>\n",
       "      <td>0.109491</td>\n",
       "    </tr>\n",
       "    <tr>\n",
       "      <th>country_Ukraine</th>\n",
       "      <td>0.110533</td>\n",
       "    </tr>\n",
       "    <tr>\n",
       "      <th>country_United Arab Emirates</th>\n",
       "      <td>0.124593</td>\n",
       "    </tr>\n",
       "    <tr>\n",
       "      <th>country_United Kingdom</th>\n",
       "      <td>0.160788</td>\n",
       "    </tr>\n",
       "    <tr>\n",
       "      <th>country_United States of America</th>\n",
       "      <td>0.227734</td>\n",
       "    </tr>\n",
       "    <tr>\n",
       "      <th>female</th>\n",
       "      <td>0.290932</td>\n",
       "    </tr>\n",
       "    <tr>\n",
       "      <th>male</th>\n",
       "      <td>0.283030</td>\n",
       "    </tr>\n",
       "  </tbody>\n",
       "</table>\n",
       "<p>79 rows × 1 columns</p>\n",
       "</div>"
      ],
      "text/plain": [
       "                                         0\n",
       "teaching                          0.883767\n",
       "international                     0.072969\n",
       "research                          0.901339\n",
       "citations                         0.314343\n",
       "income                            0.143268\n",
       "num_students                      0.276260\n",
       "student_staff_ratio               0.287310\n",
       "international_students            0.341810\n",
       "female_male_ratio                 0.299112\n",
       "year                              0.234710\n",
       "country_Argentina                 0.104917\n",
       "country_Australia                 0.134083\n",
       "country_Austria                   0.141009\n",
       "country_Belarus                   0.131905\n",
       "country_Belgium                   0.117845\n",
       "country_Brazil                    0.155983\n",
       "country_Canada                    0.127487\n",
       "country_Chile                     0.145223\n",
       "country_China                     0.091291\n",
       "country_Colombia                  0.131436\n",
       "country_Cyprus                    0.148758\n",
       "country_Czech Republic            0.119714\n",
       "country_Denmark                   0.147932\n",
       "country_Egypt                     0.120362\n",
       "country_Estonia                   0.143012\n",
       "country_Finland                   0.148502\n",
       "country_France                    0.126314\n",
       "country_Germany                   0.146009\n",
       "country_Greece                    0.099511\n",
       "country_Hong Kong                 0.142696\n",
       "...                                    ...\n",
       "country_Nigeria                   0.129934\n",
       "country_Norway                    0.098966\n",
       "country_Oman                      0.127345\n",
       "country_Pakistan                  0.123890\n",
       "country_Poland                    0.116708\n",
       "country_Portugal                  0.126887\n",
       "country_Qatar                     0.141056\n",
       "country_Republic of Ireland       0.136465\n",
       "country_Romania                   0.111867\n",
       "country_Russian Federation        0.116104\n",
       "country_Saudi Arabia              0.103308\n",
       "country_Serbia                    0.110315\n",
       "country_Singapore                 0.100133\n",
       "country_Slovakia                  0.129424\n",
       "country_Slovenia                  0.120099\n",
       "country_South Africa              0.159299\n",
       "country_South Korea               0.122393\n",
       "country_Spain                     0.128404\n",
       "country_Sweden                    0.121451\n",
       "country_Switzerland               0.164865\n",
       "country_Taiwan                    0.103323\n",
       "country_Thailand                  0.119139\n",
       "country_Turkey                    0.139892\n",
       "country_Uganda                    0.109491\n",
       "country_Ukraine                   0.110533\n",
       "country_United Arab Emirates      0.124593\n",
       "country_United Kingdom            0.160788\n",
       "country_United States of America  0.227734\n",
       "female                            0.290932\n",
       "male                              0.283030\n",
       "\n",
       "[79 rows x 1 columns]"
      ]
     },
     "execution_count": 36,
     "metadata": {},
     "output_type": "execute_result"
    }
   ],
   "source": [
    "from sklearn.feature_selection import mutual_info_regression\n",
    "\n",
    "predictores = nuevo_df.columns.drop([\"total_score\",\"world_rank\",\"university_name\"]).tolist()\n",
    "\n",
    "minfo_predictor = mutual_info_regression(X,Y)\n",
    "minfo_predictor\n",
    "\n",
    "# TODO desplegar info\n",
    "# INFO Asume ambas listas en el mismo orden \n",
    "pd.DataFrame(minfo_predictor, predictores)"
   ]
  },
  {
   "cell_type": "markdown",
   "metadata": {},
   "source": [
    "**h)** Forward Step-wise Selection (FSS)"
   ]
  },
  {
   "cell_type": "code",
   "execution_count": null,
   "metadata": {},
   "outputs": [],
   "source": [
    "def fss(x, y, names_x, k = 10000):\n",
    "    p = x.shape[1]-1\n",
    "    k = min(p, k)\n",
    "    names_x = np.array(names_x)\n",
    "    remaining = range(0, p)\n",
    "    selected = [p]\n",
    "    current_score = 0.0\n",
    "    best_new_score = 0.0\n",
    "    while remaining and len(selected)<=k :\n",
    "        score_candidates = []\n",
    "        # TODO seleccion candidato\n",
    "        for candidate in remaining:\n",
    "            model = LR(fit_intercept=True, n_jobs=1)\n",
    "            indexes = selected + [candidate]\n",
    "            x_train = x[:,indexes]\n",
    "            predictions_train = model.fit(x_train, y).predict(x_train)\n",
    "            residuals_train = predictions_train - y\n",
    "            mse_candidate = np.mean(np.power(residuals_train, 2))\n",
    "            score_candidates.append((mse_candidate, candidate))\n",
    "        score_candidates.sort()\n",
    "        score_candidates[:] = score_candidates[::-1]\n",
    "        best_new_score, best_candidate = score_candidates.pop()\n",
    "        remaining.remove(best_candidate)\n",
    "        selected.append(best_candidate)\n",
    "        # TODO print ?\n",
    "#         print \"selected = {:s} ...\".format(names_x[best_candidate])\n",
    "#         print \"totalvars=%d, mse = %f\"%(len(indexes),best_new_score)\n",
    "    return selected\n",
    "names_regressors = nuevo_df.drop([\"total_score\",\"world_rank\",\"university_name\"],axis=1).columns\n",
    "fss(X_train_scaled,y_train,names_regressors)"
   ]
  },
  {
   "cell_type": "markdown",
   "metadata": {},
   "source": [
    "plot error de entrenamiento y error de pruebas en función del número de predictores."
   ]
  },
  {
   "cell_type": "code",
   "execution_count": 37,
   "metadata": {},
   "outputs": [],
   "source": [
    "# TODO"
   ]
  },
  {
   "cell_type": "markdown",
   "metadata": {},
   "source": [
    "**i)** Ridge Regression"
   ]
  },
  {
   "cell_type": "code",
   "execution_count": 41,
   "metadata": {},
   "outputs": [
    {
     "data": {
      "image/png": "[encoded data removed]",
      "text/plain": [
       "<Figure size 432x288 with 1 Axes>"
      ]
     },
     "metadata": {
      "needs_background": "light"
     },
     "output_type": "display_data"
    },
    {
     "data": {
      "text/plain": [
       "Text(0.5,1,'Regularization Path RIDGE of country coefs')"
      ]
     },
     "execution_count": 41,
     "metadata": {},
     "output_type": "execute_result"
    },
    {
     "data": {
      "image/png": "[encoded data removed]",
      "text/plain": [
       "<Figure size 432x288 with 1 Axes>"
      ]
     },
     "metadata": {
      "needs_background": "light"
     },
     "output_type": "display_data"
    }
   ],
   "source": [
    "from sklearn.linear_model import Ridge\n",
    "\n",
    "names_regressors = nuevo_df.drop([\"total_score\",\"world_rank\",\"university_name\"],axis=1).columns\n",
    "alphas_ = np.logspace(0,6,base=10)\n",
    "coefs = []\n",
    "model = Ridge(fit_intercept=True,solver='svd')\n",
    "for a in alphas_:\n",
    "    model.set_params(alpha=a)\n",
    "    model.fit(X_train_scaled, y_train)\n",
    "    coefs.append(model.coef_)\n",
    "ax = plt.gca()\n",
    "for y_arr, label in zip(np.squeeze(coefs).T, names_regressors):\n",
    "    if \"country\" not in label:\n",
    "        plt.plot(alphas_, y_arr, label=label)\n",
    "ax.set_xscale('log')\n",
    "plt.title('Regularization Path RIDGE')\n",
    "plt.legend()\n",
    "plt.show()\n",
    "\n",
    "# TODO Plot para \"country\"\n",
    "if \"country\" in label:\n",
    "    plt.plot(alphas_, y_arr, label=label)\n",
    "plt.title('Regularization Path RIDGE of country coefs')"
   ]
  },
  {
   "cell_type": "markdown",
   "metadata": {},
   "source": [
    "**j)** Lasso"
   ]
  },
  {
   "cell_type": "code",
   "execution_count": 42,
   "metadata": {},
   "outputs": [
    {
     "data": {
      "image/png": "[encoded data removed]",
      "text/plain": [
       "<Figure size 432x288 with 1 Axes>"
      ]
     },
     "metadata": {
      "needs_background": "light"
     },
     "output_type": "display_data"
    }
   ],
   "source": [
    "from sklearn.linear_model import Lasso\n",
    "\n",
    "\n",
    "alphas_ = np.logspace(-2,3,base=10)\n",
    "coefs = []\n",
    "model = Lasso(fit_intercept=True)\n",
    "for a in alphas_:\n",
    "    model.set_params(alpha=a)\n",
    "    model.fit(X_train_scaled, y_train)\n",
    "    coefs.append(model.coef_)\n",
    "ax = plt.gca()\n",
    "for y_arr, label in zip(np.squeeze(coefs).T, names_regressors):\n",
    "    if \"country\" not in label:\n",
    "        plt.plot(alphas_, y_arr, label=label)\n",
    "ax.set_xscale('log')\n",
    "plt.title('Regularization Path RIDGE')\n",
    "plt.legend()\n",
    "plt.show()\n",
    "\n",
    "# TODO Plot para \"country\"\n",
    "\n",
    "# country_alphas_ = np.logspace(-5,0,base=10)"
   ]
  },
  {
   "cell_type": "markdown",
   "metadata": {},
   "source": [
    "**k)** Plot: error de entrenamiento y error de pruebas en función del parámetro de regularización para modelo (a_escoger)"
   ]
  },
  {
   "cell_type": "code",
   "execution_count": null,
   "metadata": {},
   "outputs": [],
   "source": [
    "alphas_ = #choose it\n",
    "coefs = []\n",
    "model = #choose it\n",
    "mse_test = []\n",
    "mse_train = []\n",
    "for a in alphas_:\n",
    "    model.set_params(alpha=a)\n",
    "    model.fit(X_train_scaled, y_train)\n",
    "    yhat_train = model.predict(X_train_scaled)\n",
    "    yhat_test = model.predict(X_test_scaled)\n",
    "    mse_train.append(np.mean(np.power(yhat_train - y_train, 2)))\n",
    "    mse_test.append(np.mean(np.power(yhat_test - y_test, 2)))\n",
    "ax = plt.gca()\n",
    "ax.plot(alphas_,mse_train,label='train error ridge/lasso')\n",
    "ax.plot(alphas_,mse_test,label='test error ridge/lasso')\n",
    "plt.legend(loc=1)\n",
    "ax.set_xscale('log')\n",
    "ax.set_xlim(ax.get_xlim()[::-1])\n",
    "plt.show()"
   ]
  },
  {
   "cell_type": "markdown",
   "metadata": {},
   "source": [
    "**l)** k-fold"
   ]
  },
  {
   "cell_type": "code",
   "execution_count": null,
   "metadata": {},
   "outputs": [],
   "source": []
  },
  {
   "cell_type": "markdown",
   "metadata": {},
   "source": [
    "**m)** Ranking *target data*"
   ]
  },
  {
   "cell_type": "code",
   "execution_count": null,
   "metadata": {},
   "outputs": [],
   "source": []
  },
  {
   "cell_type": "markdown",
   "metadata": {},
   "source": [
    "<a id=\"segundo\"></a>\n",
    "## 2. Análisis de audios como datos brutos"
   ]
  },
  {
   "cell_type": "markdown",
   "metadata": {},
   "source": [
    "<a id=\"tercero\"></a>\n",
    "## 3. Análisis de emociones en tweets"
   ]
  }
 ],
 "metadata": {
  "anaconda-cloud": {},
  "kernelspec": {
   "display_name": "Python 3",
   "language": "python",
   "name": "python3"
  },
  "language_info": {
   "codemirror_mode": {
    "name": "ipython",
    "version": 3
   },
   "file_extension": ".py",
   "mimetype": "text/x-python",
   "name": "python",
   "nbconvert_exporter": "python",
   "pygments_lexer": "ipython3",
   "version": "3.7.0"
  }
 },
 "nbformat": 4,
 "nbformat_minor": 1
}
